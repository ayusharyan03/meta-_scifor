{
 "cells": [
  {
   "cell_type": "markdown",
   "id": "106e38ac-e40f-4cd1-a46e-91f7ff22fe11",
   "metadata": {},
   "source": [
    "# Python Basics Lecture 1"
   ]
  },
  {
   "cell_type": "code",
   "execution_count": 1,
   "id": "8695aece-d8eb-4f5b-8780-47ec6861b53c",
   "metadata": {},
   "outputs": [],
   "source": [
    "# importing keywords \n",
    "import keyword"
   ]
  },
  {
   "cell_type": "code",
   "execution_count": 2,
   "id": "cf69eeac-6260-4858-a06e-05eec2d77eef",
   "metadata": {},
   "outputs": [
    {
     "name": "stdout",
     "output_type": "stream",
     "text": [
      "['False', 'None', 'True', 'and', 'as', 'assert', 'async', 'await', 'break', 'class', 'continue', 'def', 'del', 'elif', 'else', 'except', 'finally', 'for', 'from', 'global', 'if', 'import', 'in', 'is', 'lambda', 'nonlocal', 'not', 'or', 'pass', 'raise', 'return', 'try', 'while', 'with', 'yield']\n"
     ]
    }
   ],
   "source": [
    "print(keyword.kwlist)"
   ]
  },
  {
   "cell_type": "markdown",
   "id": "51c4343a-516e-40bf-8e6c-5509bee1a3ac",
   "metadata": {},
   "source": [
    "##### starting with boolean expressions "
   ]
  },
  {
   "cell_type": "code",
   "execution_count": 3,
   "id": "06fa5420-2826-4467-a292-ef1544af8f9f",
   "metadata": {},
   "outputs": [
    {
     "data": {
      "text/plain": [
       "False"
      ]
     },
     "execution_count": 3,
     "metadata": {},
     "output_type": "execute_result"
    }
   ],
   "source": [
    "True and False"
   ]
  },
  {
   "cell_type": "code",
   "execution_count": 4,
   "id": "f375b9ec-2c07-4619-9af7-bb4b0dbce9c5",
   "metadata": {},
   "outputs": [
    {
     "data": {
      "text/plain": [
       "True"
      ]
     },
     "execution_count": 4,
     "metadata": {},
     "output_type": "execute_result"
    }
   ],
   "source": [
    "True and True"
   ]
  },
  {
   "cell_type": "code",
   "execution_count": 5,
   "id": "4cd7234f-40d4-41a9-8ffb-1db85ddf2f26",
   "metadata": {},
   "outputs": [
    {
     "data": {
      "text/plain": [
       "False"
      ]
     },
     "execution_count": 5,
     "metadata": {},
     "output_type": "execute_result"
    }
   ],
   "source": [
    "False and False"
   ]
  },
  {
   "cell_type": "markdown",
   "id": "1f13fd64-48fb-4234-8667-16d1e8450953",
   "metadata": {},
   "source": [
    "##### Difference between and / or "
   ]
  },
  {
   "cell_type": "code",
   "execution_count": 7,
   "id": "5f6c9dbc-02d0-4785-bf23-bf6e0f48f2f7",
   "metadata": {},
   "outputs": [
    {
     "data": {
      "text/plain": [
       "False"
      ]
     },
     "execution_count": 7,
     "metadata": {},
     "output_type": "execute_result"
    }
   ],
   "source": [
    "not True"
   ]
  },
  {
   "cell_type": "code",
   "execution_count": 8,
   "id": "c20af7ce-9712-4691-a83d-baaeff6dc2a5",
   "metadata": {},
   "outputs": [
    {
     "data": {
      "text/plain": [
       "True"
      ]
     },
     "execution_count": 8,
     "metadata": {},
     "output_type": "execute_result"
    }
   ],
   "source": [
    "not False"
   ]
  },
  {
   "cell_type": "code",
   "execution_count": 9,
   "id": "c2a73aab-65c3-45a6-9916-b6f5ee7fc7f3",
   "metadata": {},
   "outputs": [
    {
     "data": {
      "text/plain": [
       "True"
      ]
     },
     "execution_count": 9,
     "metadata": {},
     "output_type": "execute_result"
    }
   ],
   "source": [
    "True is True"
   ]
  },
  {
   "cell_type": "code",
   "execution_count": 10,
   "id": "5fae6eab-f2fb-41c6-9d10-9814d293d764",
   "metadata": {},
   "outputs": [
    {
     "data": {
      "text/plain": [
       "False"
      ]
     },
     "execution_count": 10,
     "metadata": {},
     "output_type": "execute_result"
    }
   ],
   "source": [
    "True is False"
   ]
  },
  {
   "cell_type": "markdown",
   "id": "1ca8c877-25c6-4b5a-a9a1-8ddff68e7729",
   "metadata": {},
   "source": [
    "##### Another thing to note \n"
   ]
  },
  {
   "cell_type": "code",
   "execution_count": 12,
   "id": "c533ad92-b789-4c38-9cc3-c5db2f87390e",
   "metadata": {},
   "outputs": [
    {
     "data": {
      "text/plain": [
       "2"
      ]
     },
     "execution_count": 12,
     "metadata": {},
     "output_type": "execute_result"
    }
   ],
   "source": [
    "True + True"
   ]
  },
  {
   "cell_type": "code",
   "execution_count": 13,
   "id": "328400d7-3efa-4a86-b239-8eaebedc598a",
   "metadata": {},
   "outputs": [
    {
     "data": {
      "text/plain": [
       "1"
      ]
     },
     "execution_count": 13,
     "metadata": {},
     "output_type": "execute_result"
    }
   ],
   "source": [
    "False + True"
   ]
  },
  {
   "cell_type": "code",
   "execution_count": 14,
   "id": "3b6fd2bb-f699-4bc6-a5f6-03e0de0fc58d",
   "metadata": {},
   "outputs": [
    {
     "data": {
      "text/plain": [
       "0"
      ]
     },
     "execution_count": 14,
     "metadata": {},
     "output_type": "execute_result"
    }
   ],
   "source": [
    "False + False"
   ]
  },
  {
   "cell_type": "code",
   "execution_count": 17,
   "id": "d69073cf-037b-4a24-bff5-b5f15f108e93",
   "metadata": {},
   "outputs": [
    {
     "data": {
      "text/plain": [
       "True"
      ]
     },
     "execution_count": 17,
     "metadata": {},
     "output_type": "execute_result"
    }
   ],
   "source": [
    "10 == 10"
   ]
  },
  {
   "cell_type": "code",
   "execution_count": 18,
   "id": "ff89dab7-166b-4b97-affb-e0da3af87e4e",
   "metadata": {},
   "outputs": [
    {
     "data": {
      "text/plain": [
       "True"
      ]
     },
     "execution_count": 18,
     "metadata": {},
     "output_type": "execute_result"
    }
   ],
   "source": [
    "True and False or True"
   ]
  },
  {
   "cell_type": "markdown",
   "id": "b7b8aac0-4061-4415-ab35-42b1e7672a9a",
   "metadata": {},
   "source": [
    "#### Data Types \n",
    " Data types : \n",
    " 1. numbers / integers\n",
    " 2. String\n",
    " 3. List\n",
    " 4. Tuple\n",
    " 5. Set\n",
    " 6. Dictonary "
   ]
  },
  {
   "cell_type": "markdown",
   "id": "f64d13d6-85da-4cad-a637-386d7fa15d08",
   "metadata": {},
   "source": [
    "##### 1. Numbers / Integers"
   ]
  },
  {
   "cell_type": "code",
   "execution_count": 20,
   "id": "76ebbf6e-1efc-45ed-a610-7d38d1f057a5",
   "metadata": {},
   "outputs": [],
   "source": [
    "x = 20 "
   ]
  },
  {
   "cell_type": "code",
   "execution_count": 21,
   "id": "e8238d36-8fc9-4b2b-b3f6-36f5cb412e4c",
   "metadata": {},
   "outputs": [
    {
     "data": {
      "text/plain": [
       "int"
      ]
     },
     "execution_count": 21,
     "metadata": {},
     "output_type": "execute_result"
    }
   ],
   "source": [
    "type(x)"
   ]
  },
  {
   "cell_type": "code",
   "execution_count": 22,
   "id": "a84b4f60-2b23-46e2-9c0c-68bc5f317d00",
   "metadata": {},
   "outputs": [
    {
     "data": {
      "text/plain": [
       "float"
      ]
     },
     "execution_count": 22,
     "metadata": {},
     "output_type": "execute_result"
    }
   ],
   "source": [
    "xy = 2.45 \n",
    "type(xy)"
   ]
  },
  {
   "cell_type": "code",
   "execution_count": 23,
   "id": "3d9aae41-eb95-42d9-91f5-00525960780f",
   "metadata": {},
   "outputs": [
    {
     "data": {
      "text/plain": [
       "4"
      ]
     },
     "execution_count": 23,
     "metadata": {},
     "output_type": "execute_result"
    }
   ],
   "source": [
    "# basic addition \n",
    "x = 2+2 \n",
    "x"
   ]
  },
  {
   "cell_type": "code",
   "execution_count": 27,
   "id": "0c12a927-7350-4580-8211-c19cf93d8e9f",
   "metadata": {},
   "outputs": [
    {
     "data": {
      "text/plain": [
       "10"
      ]
     },
     "execution_count": 27,
     "metadata": {},
     "output_type": "execute_result"
    }
   ],
   "source": [
    "# basic multiplication \n",
    "x = 2\n",
    "x*5"
   ]
  },
  {
   "cell_type": "markdown",
   "id": "7d148168-54ec-4d97-a067-ba0d7ca5434c",
   "metadata": {},
   "source": [
    "# Python Basics Lecture 2"
   ]
  },
  {
   "cell_type": "markdown",
   "id": "33e0d31d-9fac-4613-9c6f-fe2fc8cdf96e",
   "metadata": {},
   "source": [
    "#### complex numbers  \n",
    "denoted with j in python "
   ]
  },
  {
   "cell_type": "code",
   "execution_count": 28,
   "id": "5a356080-0943-4dae-87d1-5ce9ee752d12",
   "metadata": {},
   "outputs": [],
   "source": [
    "c = 3 + 5j"
   ]
  },
  {
   "cell_type": "code",
   "execution_count": 29,
   "id": "33e07987-9669-4cd0-968f-a47f3f795b9f",
   "metadata": {},
   "outputs": [
    {
     "data": {
      "text/plain": [
       "complex"
      ]
     },
     "execution_count": 29,
     "metadata": {},
     "output_type": "execute_result"
    }
   ],
   "source": [
    "type(c)"
   ]
  },
  {
   "cell_type": "markdown",
   "id": "b94658a3-fab1-44ae-a5a1-8223485d1861",
   "metadata": {},
   "source": [
    "##### 2. String "
   ]
  },
  {
   "cell_type": "code",
   "execution_count": 30,
   "id": "7b845b17-b1d4-4c97-b595-5572773d8789",
   "metadata": {},
   "outputs": [
    {
     "data": {
      "text/plain": [
       "str"
      ]
     },
     "execution_count": 30,
     "metadata": {},
     "output_type": "execute_result"
    }
   ],
   "source": [
    "a = \"Meta is a hero\"\n",
    "type(a)"
   ]
  },
  {
   "cell_type": "code",
   "execution_count": 33,
   "id": "78ebddca-377f-4b93-9b2c-f440d3e0eed4",
   "metadata": {},
   "outputs": [
    {
     "name": "stdout",
     "output_type": "stream",
     "text": [
      "hello dunia kaise ho ?\n"
     ]
    }
   ],
   "source": [
    "''' string concatination '''\n",
    "s1= \"hello \"\n",
    "s2 = \"dunia \"\n",
    "s3 = \"kaise ho ?\"\n",
    "print(s1 + s2 + s3)"
   ]
  },
  {
   "cell_type": "code",
   "execution_count": 34,
   "id": "515e4434-491c-45a8-bcb8-456099276ba4",
   "metadata": {},
   "outputs": [
    {
     "name": "stdout",
     "output_type": "stream",
     "text": [
      "you are a good engineer\n"
     ]
    }
   ],
   "source": [
    "# directly adding \n",
    "print(\"you\" + \" are a good \" + \"engineer\")"
   ]
  },
  {
   "cell_type": "code",
   "execution_count": 35,
   "id": "fc3125ac-5856-4c3e-a400-5d5387b30584",
   "metadata": {},
   "outputs": [
    {
     "name": "stdout",
     "output_type": "stream",
     "text": [
      "--------------------------------------------------\n"
     ]
    }
   ],
   "source": [
    "# operation to decorate \n",
    "print(\"-\" * 50)"
   ]
  },
  {
   "cell_type": "code",
   "execution_count": 36,
   "id": "b523ce3f-981c-4e48-8457-ce25e81111bd",
   "metadata": {},
   "outputs": [
    {
     "name": "stdout",
     "output_type": "stream",
     "text": [
      "secondday1\n"
     ]
    }
   ],
   "source": [
    "# string + number concatination \n",
    "print( \"second\"+\"day\"+str(1))"
   ]
  },
  {
   "cell_type": "markdown",
   "id": "d97b0420-e86f-4ef9-a7e9-9521ecfe597b",
   "metadata": {},
   "source": [
    "## Data Structures of inbulit python: \n",
    "1. List\n",
    "2. Tuple\n",
    "3. Dictionary\n",
    "4. Set"
   ]
  },
  {
   "cell_type": "markdown",
   "id": "8f792639-0e31-46d6-9425-93f0cbb13b0d",
   "metadata": {},
   "source": [
    "#### 1. List :\n",
    "*Data structure which can holf and store and save our data, even if there are different kinds of data*"
   ]
  },
  {
   "cell_type": "code",
   "execution_count": 39,
   "id": "6c921ed5-4f63-42c0-886f-f4cfc37b3e77",
   "metadata": {},
   "outputs": [],
   "source": [
    "lst = []"
   ]
  },
  {
   "cell_type": "code",
   "execution_count": 40,
   "id": "133a0e23-98a0-49ef-927a-ffe33b9b2693",
   "metadata": {},
   "outputs": [
    {
     "data": {
      "text/plain": [
       "list"
      ]
     },
     "execution_count": 40,
     "metadata": {},
     "output_type": "execute_result"
    }
   ],
   "source": [
    "type(lst)"
   ]
  },
  {
   "cell_type": "code",
   "execution_count": 41,
   "id": "e3fa2c61-7f6c-4730-af8c-4ae09f04d11e",
   "metadata": {},
   "outputs": [
    {
     "name": "stdout",
     "output_type": "stream",
     "text": [
      "['Peter', 'Jamal', 'Riddhi', 'Rashika']\n"
     ]
    }
   ],
   "source": [
    "# creating a list of names \n",
    "names_list = ['Peter','Jamal','Riddhi','Rashika']\n",
    "print(names_list)"
   ]
  },
  {
   "cell_type": "code",
   "execution_count": 43,
   "id": "b4632733-0f1f-4ab7-8e19-6823de578eb7",
   "metadata": {},
   "outputs": [
    {
     "data": {
      "text/plain": [
       "['Peter', 'Jamal', 'Riddhi', 'Rashika']"
      ]
     },
     "execution_count": 43,
     "metadata": {},
     "output_type": "execute_result"
    }
   ],
   "source": [
    "# copy a list\n",
    "bad_names =names_list.copy()\n",
    "bad_names"
   ]
  },
  {
   "cell_type": "code",
   "execution_count": null,
   "id": "7f06bb12-bf2d-4025-a437-2eec37883d9c",
   "metadata": {},
   "outputs": [],
   "source": []
  }
 ],
 "metadata": {
  "kernelspec": {
   "display_name": "Python 3 (ipykernel)",
   "language": "python",
   "name": "python3"
  },
  "language_info": {
   "codemirror_mode": {
    "name": "ipython",
    "version": 3
   },
   "file_extension": ".py",
   "mimetype": "text/x-python",
   "name": "python",
   "nbconvert_exporter": "python",
   "pygments_lexer": "ipython3",
   "version": "3.12.4"
  }
 },
 "nbformat": 4,
 "nbformat_minor": 5
}
