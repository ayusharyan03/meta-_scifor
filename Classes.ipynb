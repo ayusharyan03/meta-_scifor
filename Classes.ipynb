{
 "cells": [
  {
   "cell_type": "markdown",
   "id": "1d34a454-a52c-4e54-8bb3-f2d42cb6d3a5",
   "metadata": {},
   "source": [
    "# Classes\n",
    "Blueprint for creating objects , attributes , methods "
   ]
  },
  {
   "cell_type": "code",
   "execution_count": 1,
   "id": "fae4af9c-34ef-45da-84e1-a688034586e2",
   "metadata": {},
   "outputs": [
    {
     "name": "stdout",
     "output_type": "stream",
     "text": [
      "<class '__main__.Car'>\n"
     ]
    }
   ],
   "source": [
    "class Car:    # car here is the class name \n",
    "    pass\n",
    "    \n",
    "audi = Car()  # audi here is an object . car is the blueprint of audi\n",
    "bmw = Car()  # bmw here is an object . car is the blueprint of bmw\n",
    "\n",
    "print(type(audi))"
   ]
  },
  {
   "cell_type": "code",
   "execution_count": 5,
   "id": "9368cfa7-a0d7-4079-865d-d93e4c379a51",
   "metadata": {},
   "outputs": [
    {
     "name": "stdout",
     "output_type": "stream",
     "text": [
      "<__main__.Car object at 0x000002019C065400>\n",
      "<__main__.Car object at 0x000002019C0664E0>\n"
     ]
    }
   ],
   "source": [
    "print(audi)\n",
    "print(bmw)"
   ]
  },
  {
   "cell_type": "code",
   "execution_count": 6,
   "id": "ac0c273f-edea-4536-a2b6-24cdd8caf515",
   "metadata": {},
   "outputs": [
    {
     "name": "stdout",
     "output_type": "stream",
     "text": [
      "4\n"
     ]
    }
   ],
   "source": [
    "audi.windows = 4    # windows is an attribute\n",
    "print(audi.windows) "
   ]
  },
  {
   "cell_type": "code",
   "execution_count": 7,
   "id": "ca423419-9f92-4fad-82e0-63564aec2366",
   "metadata": {},
   "outputs": [
    {
     "name": "stdout",
     "output_type": "stream",
     "text": [
      "4\n"
     ]
    }
   ],
   "source": [
    "tata = Car()\n",
    "tata.doors = 4\n",
    "print(tata.doors)"
   ]
  },
  {
   "cell_type": "code",
   "execution_count": 8,
   "id": "83c4442b-d476-4443-8cd0-0a5dc128e29e",
   "metadata": {},
   "outputs": [
    {
     "data": {
      "text/plain": [
       "['__class__',\n",
       " '__delattr__',\n",
       " '__dict__',\n",
       " '__dir__',\n",
       " '__doc__',\n",
       " '__eq__',\n",
       " '__format__',\n",
       " '__ge__',\n",
       " '__getattribute__',\n",
       " '__getstate__',\n",
       " '__gt__',\n",
       " '__hash__',\n",
       " '__init__',\n",
       " '__init_subclass__',\n",
       " '__le__',\n",
       " '__lt__',\n",
       " '__module__',\n",
       " '__ne__',\n",
       " '__new__',\n",
       " '__reduce__',\n",
       " '__reduce_ex__',\n",
       " '__repr__',\n",
       " '__setattr__',\n",
       " '__sizeof__',\n",
       " '__str__',\n",
       " '__subclasshook__',\n",
       " '__weakref__',\n",
       " 'doors']"
      ]
     },
     "execution_count": 8,
     "metadata": {},
     "output_type": "execute_result"
    }
   ],
   "source": [
    "dir(tata)"
   ]
  },
  {
   "cell_type": "markdown",
   "id": "7c583004-f05d-4aac-a818-2833ec46b6a5",
   "metadata": {},
   "source": [
    "### Instance variable "
   ]
  },
  {
   "cell_type": "code",
   "execution_count": 14,
   "id": "12620fad-b85d-45bc-8efe-036111749b63",
   "metadata": {},
   "outputs": [
    {
     "name": "stdout",
     "output_type": "stream",
     "text": [
      "<__main__.Dog object at 0x000002019C6FFB90>\n",
      "Buddy\n",
      "3\n"
     ]
    }
   ],
   "source": [
    "class Dog:\n",
    "    ## constructor = __init__\n",
    "    def __init__(self,name,age):  # attributes / parameters  (self is responsible for excessing the variavble)\n",
    "        self.name = name   # self.name is the instance varibale inside dog class\n",
    "        self.age  = age\n",
    "\n",
    "# create the objects \n",
    "dog1 = Dog(\"Buddy\", 3)\n",
    "print(dog1)\n",
    "print(dog1.name)\n",
    "print(dog1.age)\n",
    "\n",
    "    "
   ]
  },
  {
   "cell_type": "code",
   "execution_count": 15,
   "id": "c359da7c-3e59-4f57-929a-1c7996107a30",
   "metadata": {},
   "outputs": [
    {
     "name": "stdout",
     "output_type": "stream",
     "text": [
      "Husky\n",
      "7\n"
     ]
    }
   ],
   "source": [
    "Dog2 = Dog(\"Husky\" , 7)\n",
    "print(Dog2.name)\n",
    "print(Dog2.age)"
   ]
  },
  {
   "cell_type": "markdown",
   "id": "f817eeb5-e64b-45e4-bd1b-057297ee23b3",
   "metadata": {},
   "source": [
    "### Instance methods "
   ]
  },
  {
   "cell_type": "code",
   "execution_count": 18,
   "id": "07f68ece-58c7-44b4-800d-b624629f16d4",
   "metadata": {},
   "outputs": [
    {
     "name": "stdout",
     "output_type": "stream",
     "text": [
      "beddy says woof\n",
      "german says woof\n"
     ]
    }
   ],
   "source": [
    "## define a class with instance mwthods \n",
    "class Dog:\n",
    "    def __init__(self,name,age):\n",
    "        self.name=name\n",
    "        self.age=age\n",
    "        \n",
    "    def bark(self):    # instance method related to dog \n",
    "        print(f\"{self.name} says woof\" )\n",
    "\n",
    "Dog1 = Dog(\"beddy\" , 3)\n",
    "Dog1.bark()\n",
    "Dog2 = Dog(\"german\" , 5)\n",
    "Dog2.bark()\n"
   ]
  },
  {
   "cell_type": "markdown",
   "id": "ba2f76f6-6655-4aae-94cc-a8d2990413d1",
   "metadata": {},
   "source": [
    "### Modelling a bank account "
   ]
  },
  {
   "cell_type": "code",
   "execution_count": 32,
   "id": "bddf0678-f389-4751-ae10-4dd6cbcb2175",
   "metadata": {},
   "outputs": [],
   "source": [
    "# define class for a bank account \n",
    "class BankAccount:\n",
    "    def __init__(self,owner , balance = 0 ) :  \n",
    "        self.owner = owner    # self.owner is attribute and other owner is parameter\n",
    "        self.balance=balance\n",
    "        \n",
    "    def deposit(self , amount) :\n",
    "        self.balance+=amount\n",
    "        print(f\"{amount} is deposited and new balance is {self.balance} \")\n",
    "    \n",
    "    def withdraw(self , amount) :\n",
    "        if amount > self.balance :\n",
    "            print(\"Insufficient funds bub\")\n",
    "        else:\n",
    "            self.balance-=amount\n",
    "            print(f\"{amount} is withdrawn . new balance is {self.balance}\")\n",
    "            \n",
    "    def get_balance(self):\n",
    "        return (f\"You have {self.balance} in your bank account\")\n",
    "\n",
    "\n",
    "\n",
    "        "
   ]
  },
  {
   "cell_type": "code",
   "execution_count": 31,
   "id": "af065a8b-9e28-4f45-8b3c-d7bb7c4f5add",
   "metadata": {},
   "outputs": [
    {
     "name": "stdout",
     "output_type": "stream",
     "text": [
      "AYUSH ARYAN\n",
      "2500000\n",
      "150000 is deposited and new balance is 2650000 \n",
      "400000 is withdrawn . new balance is 2250000\n"
     ]
    },
    {
     "data": {
      "text/plain": [
       "'you have 2250000 in your bank account'"
      ]
     },
     "execution_count": 31,
     "metadata": {},
     "output_type": "execute_result"
    }
   ],
   "source": [
    "## creating an account\n",
    "account = BankAccount(\"AYUSH ARYAN\" , 2500000)\n",
    "print(account.owner)\n",
    "print(account.balance)\n",
    "\n",
    "# call instance methods (deposit)\n",
    "account.deposit(150000)\n",
    "\n",
    "\n",
    "# call instance methods (withdraw)\n",
    "account.withdraw(400000)\n",
    "\n",
    "# call instance method (get_balacne)\n",
    "account.get_balance()"
   ]
  },
  {
   "cell_type": "code",
   "execution_count": null,
   "id": "f8d84c23-983c-46af-9466-2328c9baad16",
   "metadata": {},
   "outputs": [],
   "source": []
  }
 ],
 "metadata": {
  "kernelspec": {
   "display_name": "Python 3 (ipykernel)",
   "language": "python",
   "name": "python3"
  },
  "language_info": {
   "codemirror_mode": {
    "name": "ipython",
    "version": 3
   },
   "file_extension": ".py",
   "mimetype": "text/x-python",
   "name": "python",
   "nbconvert_exporter": "python",
   "pygments_lexer": "ipython3",
   "version": "3.12.4"
  }
 },
 "nbformat": 4,
 "nbformat_minor": 5
}
