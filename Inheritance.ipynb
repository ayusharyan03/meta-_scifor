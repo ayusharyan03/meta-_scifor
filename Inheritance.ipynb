{
 "cells": [
  {
   "cell_type": "markdown",
   "id": "593bcfcd-94bf-40c1-a72c-cea71d6e8dc3",
   "metadata": {},
   "source": [
    "# Inheritance"
   ]
  },
  {
   "cell_type": "markdown",
   "id": "2d7e4466-124e-41b0-8908-fbf5b179a71a",
   "metadata": {},
   "source": [
    "its a fundamental concept which allows a class to inherit attributes and methods from other classes . \n",
    "\n",
    "what we are going to learn : \n",
    "1. single inheri\n",
    "2. multiple inheri\n",
    "3. how to use them\n",
    "\n",
    "##### child inherits property from parents , but parent can ' t inherit childs property"
   ]
  },
  {
   "cell_type": "markdown",
   "id": "948f8c5d-80a4-4c64-a738-15d29ffb46a3",
   "metadata": {},
   "source": [
    "## Single Inheritance "
   ]
  },
  {
   "cell_type": "code",
   "execution_count": 1,
   "id": "f878162e-80d4-4319-afd9-18f5ffbd8745",
   "metadata": {},
   "outputs": [],
   "source": [
    "##inheritantce :  Single Inheritance \n",
    "\n",
    "# parent class\n",
    "class car:\n",
    "    def __init__ (self , windows , doors , engine_type):\n",
    "        self.windows = windows\n",
    "        self.doors = doors\n",
    "        self.engine_type = engine_type\n",
    "    \n",
    "    def drive(self):\n",
    "        print(f\"the person will drive the {self.engine_type} car\")\n",
    "        ''' we cannot directly use the engine_type whithout using the self\n",
    "            as engine_type is an attribute of car class '''"
   ]
  },
  {
   "cell_type": "code",
   "execution_count": 13,
   "id": "8c583ac4-562a-4cb3-8cf8-fc65f41ebc0a",
   "metadata": {},
   "outputs": [
    {
     "name": "stdout",
     "output_type": "stream",
     "text": [
      "4 5 Petrol\n",
      "the person will drive the Petrol car\n"
     ]
    }
   ],
   "source": [
    "car1 = car(4,5,\"Petrol\")\n",
    "print(car1.windows,car1.doors,car1.engine_type)\n",
    "car1.drive()"
   ]
  },
  {
   "cell_type": "code",
   "execution_count": 15,
   "id": "988c33f3-e66a-4b3a-995d-0a9022863bc3",
   "metadata": {},
   "outputs": [],
   "source": [
    "# this tesla class has to inherit from the car class as tesla is a car\n",
    "\n",
    "##   child_class(parent_class) : way to inherit a class \n",
    "class Tesla(car):\n",
    "    def __init__ (self , windows , doors , engine_type , is_selfdriving):\n",
    "        ''' super keyword calls the parent class || then we call the __init__ method from the\n",
    "         car class ||| then we call the attributes of the parent class |||\n",
    "        we dont have to write this because of this super keyword \n",
    "        self.windows = windows\n",
    "        self.doors = doors\n",
    "        self.engine_type = engine_type'''\n",
    "        super().__init__(windows , doors , engine_type)\n",
    "        self.is_selfdriving = is_selfdriving\n",
    "    \n",
    "    def selfdriving(self):\n",
    "        print(f\"tesla supports self driving : {self.is_selfdriving}\")"
   ]
  },
  {
   "cell_type": "code",
   "execution_count": 17,
   "id": "49022d38-1275-4d24-b7fd-4ff1b2fe00dc",
   "metadata": {},
   "outputs": [
    {
     "name": "stdout",
     "output_type": "stream",
     "text": [
      "tesla supports self driving : True\n",
      "the person will drive the Evehicle car\n"
     ]
    }
   ],
   "source": [
    "tesla1 = Tesla(4 , 5 , \"Evehicle\" , True)\n",
    "tesla1.selfdriving()\n",
    "\n",
    "## instance method from parent class calling \n",
    "tesla1.drive()"
   ]
  },
  {
   "cell_type": "markdown",
   "id": "20f873f3-0443-44f2-9720-1492f39f8700",
   "metadata": {},
   "source": [
    "## Multiple Inheritance\n",
    "\n",
    "When a class inherits from more than one base class . mumma aur papa dono side ki zammen \n",
    "dhap di inheritance ke naam pe "
   ]
  },
  {
   "cell_type": "code",
   "execution_count": 18,
   "id": "810d980d-e66e-4e3c-9ec9-2e4e36094fef",
   "metadata": {},
   "outputs": [],
   "source": [
    "''' Base class 1 '''\n",
    "class Animal:\n",
    "    def __init__ (self , name) :\n",
    "        self.name = name\n",
    "    \n",
    "    def speak (self):\n",
    "        print(f\"sub classes must implement this method\")\n",
    "\n",
    "''' Base class 2 '''\n",
    "class Pet :\n",
    "    def __init__(self , owner):\n",
    "        self.owner = owner\n",
    "\n",
    "\n",
    "''' Child class '''\n",
    "class Dog(Animal , Pet): # way to inherit multiple classes (*multiple inheritance*)\n",
    "    def __init__(self,  name , owner):\n",
    "        Animal.__init__(self , name)\n",
    "        Pet.__init__(self , owner)\n",
    "        ''' we use this method : parentclass.__init__() as we have multiple\n",
    "            parent classes to call . and we dont use super().__init__()  here'''\n",
    "    \n",
    "    def speak(self):\n",
    "        return f\"{self.name} say wooooffffff aoooooooooooaauuooooooo\""
   ]
  },
  {
   "cell_type": "code",
   "execution_count": 25,
   "id": "0fd13d85-13ca-4b2f-b09e-b699f59fc43f",
   "metadata": {},
   "outputs": [
    {
     "name": "stdout",
     "output_type": "stream",
     "text": [
      "ChowChow say wooooffffff aoooooooooooaauuooooooo\n",
      "owner : Ayush\n",
      "dog_name : ChowChow \n"
     ]
    }
   ],
   "source": [
    "# creating object for thr class \n",
    "\n",
    "dogi = Dog(\"ChowChow\" , \"Ayush\")\n",
    "print(dogi.speak())\n",
    "print(f\"owner : {dogi.owner}\")\n",
    "print(f\"dog_name : {dogi.name} \")\n"
   ]
  },
  {
   "cell_type": "code",
   "execution_count": null,
   "id": "aff12ce0-c700-43d5-b442-b3f0b4153971",
   "metadata": {},
   "outputs": [],
   "source": []
  }
 ],
 "metadata": {
  "kernelspec": {
   "display_name": "Python 3 (ipykernel)",
   "language": "python",
   "name": "python3"
  },
  "language_info": {
   "codemirror_mode": {
    "name": "ipython",
    "version": 3
   },
   "file_extension": ".py",
   "mimetype": "text/x-python",
   "name": "python",
   "nbconvert_exporter": "python",
   "pygments_lexer": "ipython3",
   "version": "3.12.4"
  }
 },
 "nbformat": 4,
 "nbformat_minor": 5
}
